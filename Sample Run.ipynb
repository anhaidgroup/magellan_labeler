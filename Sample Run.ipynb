{
 "cells": [
  {
   "cell_type": "code",
   "execution_count": 3,
   "metadata": {},
   "outputs": [
    {
     "name": "stdout",
     "output_type": "stream",
     "text": [
      "parameters: file_path label_column_name column_1_name column_2_name column_3_name... \n"
     ]
    }
   ],
   "source": [
    "run Main.py"
   ]
  },
  {
   "cell_type": "code",
   "execution_count": null,
   "metadata": {},
   "outputs": [
    {
     "name": "stdout",
     "output_type": "stream",
     "text": [
      "Launching labeler on file:  ./test/data/drug_sample.csv\n",
      "Label column name:  label\n",
      "Columns:  ['id', 'ProductNo', 'Form', 'Dosage', 'drugname', 'activeingred', 'ReferenceDrug', 'ProductMktStatus']\n"
     ]
    }
   ],
   "source": [
    "run Main.py ./test/data/drug_sample.csv label id ProductNo Form Dosage drugname activeingred ReferenceDrug ProductMktStatus"
   ]
  }
 ],
 "metadata": {
  "kernelspec": {
   "display_name": "Python 3",
   "language": "python",
   "name": "python3"
  },
  "language_info": {
   "codemirror_mode": {
    "name": "ipython",
    "version": 3
   },
   "file_extension": ".py",
   "mimetype": "text/x-python",
   "name": "python",
   "nbconvert_exporter": "python",
   "pygments_lexer": "ipython3",
   "version": "3.5.2"
  }
 },
 "nbformat": 4,
 "nbformat_minor": 2
}

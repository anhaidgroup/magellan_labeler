{
 "cells": [
  {
   "cell_type": "markdown",
   "metadata": {},
   "source": [
    "# Introduction"
   ]
  },
  {
   "cell_type": "markdown",
   "metadata": {},
   "source": [
    "This IPython notebook illustrates how to sample a table using py_entiymatching and label a table (candidate set) using py_labeler. If you just want to know how to label a table of tuple pairs, skip to the section about labeling.\n",
    "First, we need to import py_entitymatching package and other libraries as follows:"
   ]
  },
  {
   "cell_type": "code",
   "execution_count": 11,
   "metadata": {
    "ExecuteTime": {
     "end_time": "2017-12-30T18:12:19.100155Z",
     "start_time": "2017-12-30T12:12:18.934822-06:00"
    }
   },
   "outputs": [],
   "source": [
    "# Import py_labeler package\n",
    "import py_labeler as labeler\n",
    "import os\n",
    "import pandas as pd"
   ]
  },
  {
   "cell_type": "code",
   "execution_count": 12,
   "metadata": {},
   "outputs": [],
   "source": [
    "# Get the datasets directory\n",
    "datasets_dir = labeler.get_install_path() + os.sep + 'tests' + os.sep + 'test_datasets'\n",
    "\n",
    "path_C = datasets_dir + os.sep + 'C1.csv'"
   ]
  },
  {
   "cell_type": "code",
   "execution_count": 13,
   "metadata": {},
   "outputs": [],
   "source": [
    "C = pd.read_csv(path_C)"
   ]
  },
  {
   "cell_type": "code",
   "execution_count": 14,
   "metadata": {},
   "outputs": [
    {
     "data": {
      "text/html": [
       "<div>\n",
       "<style scoped>\n",
       "    .dataframe tbody tr th:only-of-type {\n",
       "        vertical-align: middle;\n",
       "    }\n",
       "\n",
       "    .dataframe tbody tr th {\n",
       "        vertical-align: top;\n",
       "    }\n",
       "\n",
       "    .dataframe thead th {\n",
       "        text-align: right;\n",
       "    }\n",
       "</style>\n",
       "<table border=\"1\" class=\"dataframe\">\n",
       "  <thead>\n",
       "    <tr style=\"text-align: right;\">\n",
       "      <th></th>\n",
       "      <th>_id</th>\n",
       "      <th>ltable_ID</th>\n",
       "      <th>rtable_ID</th>\n",
       "      <th>ltable_name</th>\n",
       "      <th>ltable_zipcode</th>\n",
       "      <th>ltable_birth_year</th>\n",
       "      <th>rtable_name</th>\n",
       "      <th>rtable_zipcode</th>\n",
       "      <th>rtable_birth_year</th>\n",
       "    </tr>\n",
       "  </thead>\n",
       "  <tbody>\n",
       "    <tr>\n",
       "      <th>0</th>\n",
       "      <td>0</td>\n",
       "      <td>a1</td>\n",
       "      <td>b1</td>\n",
       "      <td>Kevin Smith</td>\n",
       "      <td>94107</td>\n",
       "      <td>1989</td>\n",
       "      <td>Mark Levene</td>\n",
       "      <td>94107</td>\n",
       "      <td>1987</td>\n",
       "    </tr>\n",
       "    <tr>\n",
       "      <th>1</th>\n",
       "      <td>1</td>\n",
       "      <td>a1</td>\n",
       "      <td>b2</td>\n",
       "      <td>Kevin Smith</td>\n",
       "      <td>94107</td>\n",
       "      <td>1989</td>\n",
       "      <td>Bill Bridge</td>\n",
       "      <td>94107</td>\n",
       "      <td>1986</td>\n",
       "    </tr>\n",
       "    <tr>\n",
       "      <th>2</th>\n",
       "      <td>2</td>\n",
       "      <td>a1</td>\n",
       "      <td>b6</td>\n",
       "      <td>Kevin Smith</td>\n",
       "      <td>94107</td>\n",
       "      <td>1989</td>\n",
       "      <td>Michael Brodie</td>\n",
       "      <td>94107</td>\n",
       "      <td>1987</td>\n",
       "    </tr>\n",
       "    <tr>\n",
       "      <th>3</th>\n",
       "      <td>6</td>\n",
       "      <td>a2</td>\n",
       "      <td>b3</td>\n",
       "      <td>Michael Franklin</td>\n",
       "      <td>94122</td>\n",
       "      <td>1988</td>\n",
       "      <td>Mike Franklin</td>\n",
       "      <td>94122</td>\n",
       "      <td>1988</td>\n",
       "    </tr>\n",
       "    <tr>\n",
       "      <th>4</th>\n",
       "      <td>7</td>\n",
       "      <td>a2</td>\n",
       "      <td>b4</td>\n",
       "      <td>Michael Franklin</td>\n",
       "      <td>94122</td>\n",
       "      <td>1988</td>\n",
       "      <td>Joseph Kuan</td>\n",
       "      <td>94122</td>\n",
       "      <td>1982</td>\n",
       "    </tr>\n",
       "  </tbody>\n",
       "</table>\n",
       "</div>"
      ],
      "text/plain": [
       "   _id ltable_ID rtable_ID       ltable_name  ltable_zipcode  \\\n",
       "0    0        a1        b1       Kevin Smith           94107   \n",
       "1    1        a1        b2       Kevin Smith           94107   \n",
       "2    2        a1        b6       Kevin Smith           94107   \n",
       "3    6        a2        b3  Michael Franklin           94122   \n",
       "4    7        a2        b4  Michael Franklin           94122   \n",
       "\n",
       "   ltable_birth_year     rtable_name  rtable_zipcode  rtable_birth_year  \n",
       "0               1989     Mark Levene           94107               1987  \n",
       "1               1989     Bill Bridge           94107               1986  \n",
       "2               1989  Michael Brodie           94107               1987  \n",
       "3               1988   Mike Franklin           94122               1988  \n",
       "4               1988     Joseph Kuan           94122               1982  "
      ]
     },
     "execution_count": 14,
     "metadata": {},
     "output_type": "execute_result"
    }
   ],
   "source": [
    "C.head()"
   ]
  },
  {
   "cell_type": "code",
   "execution_count": 15,
   "metadata": {},
   "outputs": [
    {
     "data": {
      "text/plain": [
       "14"
      ]
     },
     "execution_count": 15,
     "metadata": {},
     "output_type": "execute_result"
    }
   ],
   "source": [
    "len(C)"
   ]
  },
  {
   "cell_type": "markdown",
   "metadata": {},
   "source": [
    "# Label the Sampled Set"
   ]
  },
  {
   "cell_type": "code",
   "execution_count": 16,
   "metadata": {},
   "outputs": [],
   "source": [
    "import PyQt5"
   ]
  },
  {
   "cell_type": "code",
   "execution_count": 17,
   "metadata": {},
   "outputs": [
    {
     "data": {
      "text/plain": [
       "'5.9.3'"
      ]
     },
     "execution_count": 17,
     "metadata": {},
     "output_type": "execute_result"
    }
   ],
   "source": [
    "PyQt5.QtCore.QT_VERSION_STR"
   ]
  },
  {
   "cell_type": "code",
   "execution_count": 18,
   "metadata": {},
   "outputs": [],
   "source": [
    "# Label the data set\n",
    "# Specify the name for the label column\n",
    "G = labeler.label_table(C, 'gold_label')"
   ]
  },
  {
   "cell_type": "code",
   "execution_count": 19,
   "metadata": {},
   "outputs": [
    {
     "data": {
      "text/html": [
       "<div>\n",
       "<style scoped>\n",
       "    .dataframe tbody tr th:only-of-type {\n",
       "        vertical-align: middle;\n",
       "    }\n",
       "\n",
       "    .dataframe tbody tr th {\n",
       "        vertical-align: top;\n",
       "    }\n",
       "\n",
       "    .dataframe thead th {\n",
       "        text-align: right;\n",
       "    }\n",
       "</style>\n",
       "<table border=\"1\" class=\"dataframe\">\n",
       "  <thead>\n",
       "    <tr style=\"text-align: right;\">\n",
       "      <th></th>\n",
       "      <th>_id</th>\n",
       "      <th>ltable_ID</th>\n",
       "      <th>rtable_ID</th>\n",
       "      <th>ltable_name</th>\n",
       "      <th>ltable_zipcode</th>\n",
       "      <th>ltable_birth_year</th>\n",
       "      <th>rtable_name</th>\n",
       "      <th>rtable_zipcode</th>\n",
       "      <th>rtable_birth_year</th>\n",
       "    </tr>\n",
       "  </thead>\n",
       "  <tbody>\n",
       "    <tr>\n",
       "      <th>0</th>\n",
       "      <td>0</td>\n",
       "      <td>a1</td>\n",
       "      <td>b1</td>\n",
       "      <td>Kevin Smith</td>\n",
       "      <td>94107</td>\n",
       "      <td>1989</td>\n",
       "      <td>Mark Levene</td>\n",
       "      <td>94107</td>\n",
       "      <td>1987</td>\n",
       "    </tr>\n",
       "    <tr>\n",
       "      <th>1</th>\n",
       "      <td>1</td>\n",
       "      <td>a1</td>\n",
       "      <td>b2</td>\n",
       "      <td>Kevin Smith</td>\n",
       "      <td>94107</td>\n",
       "      <td>1989</td>\n",
       "      <td>Bill Bridge</td>\n",
       "      <td>94107</td>\n",
       "      <td>1986</td>\n",
       "    </tr>\n",
       "    <tr>\n",
       "      <th>2</th>\n",
       "      <td>2</td>\n",
       "      <td>a1</td>\n",
       "      <td>b6</td>\n",
       "      <td>Kevin Smith</td>\n",
       "      <td>94107</td>\n",
       "      <td>1989</td>\n",
       "      <td>Michael Brodie</td>\n",
       "      <td>94107</td>\n",
       "      <td>1987</td>\n",
       "    </tr>\n",
       "    <tr>\n",
       "      <th>3</th>\n",
       "      <td>6</td>\n",
       "      <td>a2</td>\n",
       "      <td>b3</td>\n",
       "      <td>Michael Franklin</td>\n",
       "      <td>94122</td>\n",
       "      <td>1988</td>\n",
       "      <td>Mike Franklin</td>\n",
       "      <td>94122</td>\n",
       "      <td>1988</td>\n",
       "    </tr>\n",
       "    <tr>\n",
       "      <th>4</th>\n",
       "      <td>7</td>\n",
       "      <td>a2</td>\n",
       "      <td>b4</td>\n",
       "      <td>Michael Franklin</td>\n",
       "      <td>94122</td>\n",
       "      <td>1988</td>\n",
       "      <td>Joseph Kuan</td>\n",
       "      <td>94122</td>\n",
       "      <td>1982</td>\n",
       "    </tr>\n",
       "  </tbody>\n",
       "</table>\n",
       "</div>"
      ],
      "text/plain": [
       "   _id ltable_ID rtable_ID       ltable_name  ltable_zipcode  \\\n",
       "0    0        a1        b1       Kevin Smith           94107   \n",
       "1    1        a1        b2       Kevin Smith           94107   \n",
       "2    2        a1        b6       Kevin Smith           94107   \n",
       "3    6        a2        b3  Michael Franklin           94122   \n",
       "4    7        a2        b4  Michael Franklin           94122   \n",
       "\n",
       "   ltable_birth_year     rtable_name  rtable_zipcode  rtable_birth_year  \n",
       "0               1989     Mark Levene           94107               1987  \n",
       "1               1989     Bill Bridge           94107               1986  \n",
       "2               1989  Michael Brodie           94107               1987  \n",
       "3               1988   Mike Franklin           94122               1988  \n",
       "4               1988     Joseph Kuan           94122               1982  "
      ]
     },
     "execution_count": 19,
     "metadata": {},
     "output_type": "execute_result"
    }
   ],
   "source": [
    "C.head()"
   ]
  },
  {
   "cell_type": "code",
   "execution_count": 20,
   "metadata": {},
   "outputs": [
    {
     "data": {
      "text/html": [
       "<div>\n",
       "<style scoped>\n",
       "    .dataframe tbody tr th:only-of-type {\n",
       "        vertical-align: middle;\n",
       "    }\n",
       "\n",
       "    .dataframe tbody tr th {\n",
       "        vertical-align: top;\n",
       "    }\n",
       "\n",
       "    .dataframe thead th {\n",
       "        text-align: right;\n",
       "    }\n",
       "</style>\n",
       "<table border=\"1\" class=\"dataframe\">\n",
       "  <thead>\n",
       "    <tr style=\"text-align: right;\">\n",
       "      <th></th>\n",
       "      <th>_id</th>\n",
       "      <th>ltable_ID</th>\n",
       "      <th>rtable_ID</th>\n",
       "      <th>ltable_name</th>\n",
       "      <th>ltable_zipcode</th>\n",
       "      <th>ltable_birth_year</th>\n",
       "      <th>rtable_name</th>\n",
       "      <th>rtable_zipcode</th>\n",
       "      <th>rtable_birth_year</th>\n",
       "      <th>gold_label</th>\n",
       "      <th>comments</th>\n",
       "      <th>tags</th>\n",
       "    </tr>\n",
       "  </thead>\n",
       "  <tbody>\n",
       "    <tr>\n",
       "      <th>0</th>\n",
       "      <td>0</td>\n",
       "      <td>a1</td>\n",
       "      <td>b1</td>\n",
       "      <td>Kevin Smith</td>\n",
       "      <td>94107</td>\n",
       "      <td>1989</td>\n",
       "      <td>Mark Levene</td>\n",
       "      <td>94107</td>\n",
       "      <td>1987</td>\n",
       "      <td>Not-Matched</td>\n",
       "      <td></td>\n",
       "      <td></td>\n",
       "    </tr>\n",
       "    <tr>\n",
       "      <th>1</th>\n",
       "      <td>1</td>\n",
       "      <td>a1</td>\n",
       "      <td>b2</td>\n",
       "      <td>Kevin Smith</td>\n",
       "      <td>94107</td>\n",
       "      <td>1989</td>\n",
       "      <td>Bill Bridge</td>\n",
       "      <td>94107</td>\n",
       "      <td>1986</td>\n",
       "      <td>Yes</td>\n",
       "      <td></td>\n",
       "      <td></td>\n",
       "    </tr>\n",
       "    <tr>\n",
       "      <th>2</th>\n",
       "      <td>2</td>\n",
       "      <td>a1</td>\n",
       "      <td>b6</td>\n",
       "      <td>Kevin Smith</td>\n",
       "      <td>94107</td>\n",
       "      <td>1989</td>\n",
       "      <td>Michael Brodie</td>\n",
       "      <td>94107</td>\n",
       "      <td>1987</td>\n",
       "      <td>Not-Labeled</td>\n",
       "      <td></td>\n",
       "      <td></td>\n",
       "    </tr>\n",
       "    <tr>\n",
       "      <th>3</th>\n",
       "      <td>6</td>\n",
       "      <td>a2</td>\n",
       "      <td>b3</td>\n",
       "      <td>Michael Franklin</td>\n",
       "      <td>94122</td>\n",
       "      <td>1988</td>\n",
       "      <td>Mike Franklin</td>\n",
       "      <td>94122</td>\n",
       "      <td>1988</td>\n",
       "      <td>Not-Sure</td>\n",
       "      <td></td>\n",
       "      <td></td>\n",
       "    </tr>\n",
       "    <tr>\n",
       "      <th>4</th>\n",
       "      <td>7</td>\n",
       "      <td>a2</td>\n",
       "      <td>b4</td>\n",
       "      <td>Michael Franklin</td>\n",
       "      <td>94122</td>\n",
       "      <td>1988</td>\n",
       "      <td>Joseph Kuan</td>\n",
       "      <td>94122</td>\n",
       "      <td>1982</td>\n",
       "      <td>Not-Labeled</td>\n",
       "      <td></td>\n",
       "      <td></td>\n",
       "    </tr>\n",
       "  </tbody>\n",
       "</table>\n",
       "</div>"
      ],
      "text/plain": [
       "   _id ltable_ID rtable_ID       ltable_name  ltable_zipcode  \\\n",
       "0    0        a1        b1       Kevin Smith           94107   \n",
       "1    1        a1        b2       Kevin Smith           94107   \n",
       "2    2        a1        b6       Kevin Smith           94107   \n",
       "3    6        a2        b3  Michael Franklin           94122   \n",
       "4    7        a2        b4  Michael Franklin           94122   \n",
       "\n",
       "   ltable_birth_year     rtable_name  rtable_zipcode  rtable_birth_year  \\\n",
       "0               1989     Mark Levene           94107               1987   \n",
       "1               1989     Bill Bridge           94107               1986   \n",
       "2               1989  Michael Brodie           94107               1987   \n",
       "3               1988   Mike Franklin           94122               1988   \n",
       "4               1988     Joseph Kuan           94122               1982   \n",
       "\n",
       "    gold_label comments tags  \n",
       "0  Not-Matched                \n",
       "1          Yes                \n",
       "2  Not-Labeled                \n",
       "3     Not-Sure                \n",
       "4  Not-Labeled                "
      ]
     },
     "execution_count": 20,
     "metadata": {},
     "output_type": "execute_result"
    }
   ],
   "source": [
    "G.head()"
   ]
  }
 ],
 "metadata": {
  "anaconda-cloud": {},
  "kernelspec": {
   "display_name": "Python 3",
   "language": "python",
   "name": "python3"
  },
  "language_info": {
   "codemirror_mode": {
    "name": "ipython",
    "version": 3
   },
   "file_extension": ".py",
   "mimetype": "text/x-python",
   "name": "python",
   "nbconvert_exporter": "python",
   "pygments_lexer": "ipython3",
   "version": "3.6.3"
  }
 },
 "nbformat": 4,
 "nbformat_minor": 1
}
